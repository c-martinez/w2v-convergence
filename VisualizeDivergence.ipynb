{
 "cells": [
  {
   "cell_type": "markdown",
   "metadata": {},
   "source": [
    "# Visualize Divergence\n",
    "\n",
    "This notebook is used to visualize results produced by `runDivergenceRange.py`. Graphs produced by this notebook can be used to determine the convergence of word2vec models trained on diachronic corpus, in order to determine the number of years required for the model to be representative of the corpus. For mor information, read the README.md document."
   ]
  },
  {
   "cell_type": "code",
   "execution_count": null,
   "metadata": {
    "collapsed": false,
    "deletable": true,
    "editable": true
   },
   "outputs": [],
   "source": [
    "%pylab inline"
   ]
  },
  {
   "cell_type": "code",
   "execution_count": null,
   "metadata": {
    "collapsed": true,
    "deletable": true,
    "editable": true
   },
   "outputs": [],
   "source": [
    "import pickle as pkl\n",
    "from glob import glob"
   ]
  },
  {
   "cell_type": "code",
   "execution_count": null,
   "metadata": {
    "collapsed": false,
    "deletable": true,
    "editable": true
   },
   "outputs": [],
   "source": [
    "from helpers import getYears\n",
    "from divergence import computeDivergenceOverYearRange"
   ]
  },
  {
   "cell_type": "markdown",
   "metadata": {},
   "source": [
    "# IMPORTANT\n",
    "Set `saveDir` to be the directory where you saved your divergence models. This should be the same which was used as the `--outDir` of `runDivergenceRange.py` script."
   ]
  },
  {
   "cell_type": "code",
   "execution_count": null,
   "metadata": {
    "collapsed": false,
    "deletable": true,
    "editable": true
   },
   "outputs": [],
   "source": [
    "saveDir = ''"
   ]
  },
  {
   "cell_type": "code",
   "execution_count": null,
   "metadata": {
    "collapsed": false,
    "deletable": true,
    "editable": true
   },
   "outputs": [],
   "source": [
    "def doPlots(divergence, sentenceYearCounter):\n",
    "    semilogx(divergence.keys(), divergence.values())\n",
    "    xlabel('# Sentences')\n",
    "    ylabel('Divergence')\n",
    "    for year,sentenceCount in sentenceYearCounter.iteritems():\n",
    "        plot([sentenceCount,sentenceCount], [0,1],'--', color='#aaaaaa')\n",
    "        text(sentenceCount, 0.5, str(year), rotation=270)\n"
   ]
  },
  {
   "cell_type": "code",
   "execution_count": null,
   "metadata": {
    "collapsed": true,
    "deletable": true,
    "editable": true
   },
   "outputs": [],
   "source": [
    "def plotSentences(sentenceYearCounter):\n",
    "    semilogy(sentenceYearCounter.keys(), sentenceYearCounter.values())\n",
    "    xticks(sentenceYearCounter.keys(), sentenceYearCounter.keys(), rotation=90)\n",
    "    xlabel('Year')\n",
    "    ylabel('# Sentences')"
   ]
  },
  {
   "cell_type": "code",
   "execution_count": null,
   "metadata": {
    "collapsed": false,
    "deletable": true,
    "editable": true,
    "scrolled": false
   },
   "outputs": [],
   "source": [
    "files = sorted(glob(saveDir + '/*.pkl'))\n",
    "\n",
    "for f in files:\n",
    "    divergence, sentenceYearCounter, vocabSize = pkl.load(open(f, 'rb'))\n",
    "    plotTitle = f.replace(saveDir + '/divergenceRange_', '').replace('.pkl', '')\n",
    "    \n",
    "    figure(figsize=(12,4))\n",
    "    subplot(1,2,1)\n",
    "    doPlots(divergence, sentenceYearCounter)\n",
    "    title(plotTitle)\n",
    "    \n",
    "    subplot(1,2,2)\n",
    "    plotSentences(sentenceYearCounter)"
   ]
  },
  {
   "cell_type": "code",
   "execution_count": null,
   "metadata": {
    "collapsed": false,
    "deletable": true,
    "editable": true
   },
   "outputs": [],
   "source": []
  }
 ],
 "metadata": {
  "kernelspec": {
   "display_name": "Python 2",
   "language": "python",
   "name": "python2"
  },
  "language_info": {
   "codemirror_mode": {
    "name": "ipython",
    "version": 2
   },
   "file_extension": ".py",
   "mimetype": "text/x-python",
   "name": "python",
   "nbconvert_exporter": "python",
   "pygments_lexer": "ipython2",
   "version": "2.7.6"
  },
  "widgets": {
   "state": {},
   "version": "1.1.1"
  }
 },
 "nbformat": 4,
 "nbformat_minor": 1
}
