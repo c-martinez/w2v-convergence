{
 "cells": [
  {
   "cell_type": "markdown",
   "metadata": {},
   "source": [
    "# Using variable learning rates\n",
    "This notebook is an experiment to measure the effect of alpha (learning rate) on the gensim training.\n",
    "\n",
    "The initial question was: *does using a fixed / variable alpha has an effect on the observed convergence of w2v models?*\n",
    "\n",
    "This notebook runs two sets of models with the same parameters, except one set has a fixed learning rate while the other has a variable learning rate.\n",
    "\n",
    "Based on several runs of this notebook, there doesn't seem to be any difference in the convergence curves. This implies that the learning rate has little effect on the final model (there must be a difference, but it is not noticable on the convergence)."
   ]
  },
  {
   "cell_type": "code",
   "execution_count": 1,
   "metadata": {
    "collapsed": true
   },
   "outputs": [],
   "source": [
    "%load_ext autoreload\n",
    "%autoreload 2"
   ]
  },
  {
   "cell_type": "code",
   "execution_count": 2,
   "metadata": {
    "collapsed": false
   },
   "outputs": [
    {
     "name": "stdout",
     "output_type": "stream",
     "text": [
      "Populating the interactive namespace from numpy and matplotlib\n"
     ]
    }
   ],
   "source": [
    "%pylab inline"
   ]
  },
  {
   "cell_type": "code",
   "execution_count": 3,
   "metadata": {
    "collapsed": true
   },
   "outputs": [],
   "source": [
    "minSentences = 1e4\n",
    "maxSentences = 1.5e5\n",
    "vector_size = 300\n",
    "nSteps = 25\n",
    "chunkSize = 1000\n",
    "randomSeed = 1\n",
    "y0 = 1785"
   ]
  },
  {
   "cell_type": "code",
   "execution_count": 4,
   "metadata": {
    "collapsed": true
   },
   "outputs": [],
   "source": [
    "years = np.arange(1785, 1795)"
   ]
  },
  {
   "cell_type": "code",
   "execution_count": 5,
   "metadata": {
    "collapsed": false
   },
   "outputs": [
    {
     "name": "stdout",
     "output_type": "stream",
     "text": [
      "Using data from : /home/carlosm/Projects/ShiCo/data/times/\n",
      "Using cache from: /home/carlosm/Projects/ShiCo/data/cache/\n"
     ]
    }
   ],
   "source": [
    "from convergence import *"
   ]
  },
  {
   "cell_type": "code",
   "execution_count": 6,
   "metadata": {
    "collapsed": false,
    "scrolled": true
   },
   "outputs": [
    {
     "name": "stdout",
     "output_type": "stream",
     "text": [
      "Chunks for 1785 have already been created. Skipping...\n",
      "Chunks for 1786 have already been created. Skipping...\n",
      "Chunks for 1787 have already been created. Skipping...\n",
      "Chunks for 1788 have already been created. Skipping...\n",
      "Chunks for 1789 have already been created. Skipping...\n",
      "Chunks for 1790 have already been created. Skipping...\n",
      "Chunks for 1791 have already been created. Skipping...\n",
      "Chunks for 1792 have already been created. Skipping...\n",
      "Chunks for 1793 have already been created. Skipping...\n",
      "Chunks for 1794 have already been created. Skipping...\n",
      "Building model:  ./models/1785_000000010000.w2v\n",
      "...saving\n",
      "Building model:  ./models/1785_000000011194.w2v\n",
      "...saving\n",
      "Building model:  ./models/1785_000000012531.w2v\n",
      "...saving\n",
      "Building model:  ./models/1785_000000014028.w2v\n",
      "...saving\n",
      "Building model:  ./models/1785_000000015704.w2v\n",
      "...saving\n",
      "Building model:  ./models/1785_000000017580.w2v\n",
      "...saving\n",
      "Building model:  ./models/1785_000000019679.w2v\n",
      "...saving\n",
      "Building model:  ./models/1785_000000022030.w2v\n",
      "...saving\n",
      "Building model:  ./models/1785_000000024662.w2v\n",
      "...saving\n",
      "Building model:  ./models/1785_000000027607.w2v\n",
      "...saving\n",
      "Building model:  ./models/1785_000000030905.w2v\n",
      "...saving\n",
      "Building model:  ./models/1785_000000034597.w2v\n",
      "...saving\n",
      "Building model:  ./models/1785_000000038729.w2v\n",
      "...saving\n",
      "Building model:  ./models/1785_000000043356.w2v\n",
      "...saving\n",
      "Building model:  ./models/1785_000000048534.w2v\n",
      "...saving\n",
      "Building model:  ./models/1785_000000054332.w2v\n",
      "...saving\n",
      "Building model:  ./models/1785_000000060822.w2v\n",
      "...saving\n",
      "Building model:  ./models/1785_000000068087.w2v\n",
      "...saving\n",
      "Building model:  ./models/1785_000000076219.w2v\n",
      "...saving\n",
      "Building model:  ./models/1785_000000085324.w2v\n",
      "...saving\n",
      "Building model:  ./models/1785_000000095515.w2v\n",
      "...saving\n",
      "Building model:  ./models/1785_000000106925.w2v\n",
      "...saving\n",
      "Building model:  ./models/1785_000000119697.w2v\n",
      "...saving\n",
      "Building model:  ./models/1785_000000133994.w2v\n",
      "...saving\n",
      "Building model:  ./models/1785_000000150000.w2v\n",
      "...saving\n",
      "... loading file:  /1785_000000010000.w2v\n",
      "... loading file:  /1785_000000011194.w2v\n",
      "... loading file:  /1785_000000012531.w2v\n",
      "... loading file:  /1785_000000014028.w2v\n",
      "... loading file:  /1785_000000015704.w2v\n",
      "... loading file:  /1785_000000017580.w2v\n",
      "... loading file:  /1785_000000019679.w2v\n",
      "... loading file:  /1785_000000022030.w2v\n",
      "... loading file:  /1785_000000024662.w2v\n",
      "... loading file:  /1785_000000027607.w2v\n",
      "... loading file:  /1785_000000030905.w2v\n",
      "... loading file:  /1785_000000034597.w2v\n",
      "... loading file:  /1785_000000038729.w2v\n",
      "... loading file:  /1785_000000043356.w2v\n",
      "... loading file:  /1785_000000048534.w2v\n",
      "... loading file:  /1785_000000054332.w2v\n",
      "... loading file:  /1785_000000060822.w2v\n",
      "... loading file:  /1785_000000068087.w2v\n",
      "... loading file:  /1785_000000076219.w2v\n",
      "... loading file:  /1785_000000085324.w2v\n",
      "... loading file:  /1785_000000095515.w2v\n",
      "... loading file:  /1785_000000106925.w2v\n",
      "... loading file:  /1785_000000119697.w2v\n",
      "... loading file:  /1785_000000133994.w2v\n",
      "... loading file:  /1785_000000150000.w2v\n"
     ]
    }
   ],
   "source": [
    "modelFolder = './models'\n",
    "\n",
    "generateModelsForPeriod(years, minSentences, maxSentences, nSteps, chunkSize, randomSeed, vector_size, modelFolder)\n",
    "convergence, sentenceYearCounter, vocabSize = computeConvergenceOverYearRangeWithBuildModels(modelFolder, vector_size)\n",
    "\n",
    "fname = modelFolder + '/convergenceRange_%d.pkl'%y0\n",
    "pkl.dump((convergence, sentenceYearCounter, vocabSize), open(fname, 'wb'))"
   ]
  },
  {
   "cell_type": "code",
   "execution_count": 7,
   "metadata": {
    "collapsed": false,
    "scrolled": true
   },
   "outputs": [
    {
     "name": "stdout",
     "output_type": "stream",
     "text": [
      "Chunks for 1785 have already been created. Skipping...\n",
      "Chunks for 1786 have already been created. Skipping...\n",
      "Chunks for 1787 have already been created. Skipping...\n",
      "Chunks for 1788 have already been created. Skipping...\n",
      "Chunks for 1789 have already been created. Skipping...\n",
      "Chunks for 1790 have already been created. Skipping...\n",
      "Chunks for 1791 have already been created. Skipping...\n",
      "Chunks for 1792 have already been created. Skipping...\n",
      "Chunks for 1793 have already been created. Skipping...\n",
      "Chunks for 1794 have already been created. Skipping...\n",
      "Building model:  ./models-b/1785_000000010000.w2v\n",
      "...using fixed alpha...\n",
      "...saving\n",
      "Building model:  ./models-b/1785_000000011194.w2v\n",
      "...using fixed alpha...\n",
      "...saving\n",
      "Building model:  ./models-b/1785_000000012531.w2v\n",
      "...using fixed alpha...\n",
      "...saving\n",
      "Building model:  ./models-b/1785_000000014028.w2v\n",
      "...using fixed alpha...\n",
      "...saving\n",
      "Building model:  ./models-b/1785_000000015704.w2v\n",
      "...using fixed alpha...\n",
      "...saving\n",
      "Building model:  ./models-b/1785_000000017580.w2v\n",
      "...using fixed alpha...\n",
      "...saving\n",
      "Building model:  ./models-b/1785_000000019679.w2v\n",
      "...using fixed alpha...\n",
      "...saving\n",
      "Building model:  ./models-b/1785_000000022030.w2v\n",
      "...using fixed alpha...\n",
      "...saving\n",
      "Building model:  ./models-b/1785_000000024662.w2v\n",
      "...using fixed alpha...\n",
      "...saving\n",
      "Building model:  ./models-b/1785_000000027607.w2v\n",
      "...using fixed alpha...\n",
      "...saving\n",
      "Building model:  ./models-b/1785_000000030905.w2v\n",
      "...using fixed alpha...\n",
      "...saving\n",
      "Building model:  ./models-b/1785_000000034597.w2v\n",
      "...using fixed alpha...\n",
      "...saving\n",
      "Building model:  ./models-b/1785_000000038729.w2v\n",
      "...using fixed alpha...\n",
      "...saving\n",
      "Building model:  ./models-b/1785_000000043356.w2v\n",
      "...using fixed alpha...\n",
      "...saving\n",
      "Building model:  ./models-b/1785_000000048534.w2v\n",
      "...using fixed alpha...\n",
      "...saving\n",
      "Building model:  ./models-b/1785_000000054332.w2v\n",
      "...using fixed alpha...\n",
      "...saving\n",
      "Building model:  ./models-b/1785_000000060822.w2v\n",
      "...using fixed alpha...\n",
      "...saving\n",
      "Building model:  ./models-b/1785_000000068087.w2v\n",
      "...using fixed alpha...\n",
      "...saving\n",
      "Building model:  ./models-b/1785_000000076219.w2v\n",
      "...using fixed alpha...\n",
      "...saving\n",
      "Building model:  ./models-b/1785_000000085324.w2v\n",
      "...using fixed alpha...\n",
      "...saving\n",
      "Building model:  ./models-b/1785_000000095515.w2v\n",
      "...using fixed alpha...\n",
      "...saving\n",
      "Building model:  ./models-b/1785_000000106925.w2v\n",
      "...using fixed alpha...\n",
      "...saving\n",
      "Building model:  ./models-b/1785_000000119697.w2v\n",
      "...using fixed alpha...\n",
      "...saving\n",
      "Building model:  ./models-b/1785_000000133994.w2v\n",
      "...using fixed alpha...\n",
      "...saving\n",
      "Building model:  ./models-b/1785_000000150000.w2v\n",
      "...using fixed alpha...\n",
      "...saving\n",
      "... loading file:  /1785_000000010000.w2v\n",
      "... loading file:  /1785_000000011194.w2v\n",
      "... loading file:  /1785_000000012531.w2v\n",
      "... loading file:  /1785_000000014028.w2v\n",
      "... loading file:  /1785_000000015704.w2v\n",
      "... loading file:  /1785_000000017580.w2v\n",
      "... loading file:  /1785_000000019679.w2v\n",
      "... loading file:  /1785_000000022030.w2v\n",
      "... loading file:  /1785_000000024662.w2v\n",
      "... loading file:  /1785_000000027607.w2v\n",
      "... loading file:  /1785_000000030905.w2v\n",
      "... loading file:  /1785_000000034597.w2v\n",
      "... loading file:  /1785_000000038729.w2v\n",
      "... loading file:  /1785_000000043356.w2v\n",
      "... loading file:  /1785_000000048534.w2v\n",
      "... loading file:  /1785_000000054332.w2v\n",
      "... loading file:  /1785_000000060822.w2v\n",
      "... loading file:  /1785_000000068087.w2v\n",
      "... loading file:  /1785_000000076219.w2v\n",
      "... loading file:  /1785_000000085324.w2v\n",
      "... loading file:  /1785_000000095515.w2v\n",
      "... loading file:  /1785_000000106925.w2v\n",
      "... loading file:  /1785_000000119697.w2v\n",
      "... loading file:  /1785_000000133994.w2v\n",
      "... loading file:  /1785_000000150000.w2v\n"
     ]
    }
   ],
   "source": [
    "modelFolder = './models-b'\n",
    "\n",
    "generateModelsForPeriod(years, minSentences, maxSentences, nSteps, chunkSize, randomSeed, vector_size, modelFolder, fixedAlpha=True)\n",
    "convergence, sentenceYearCounter, vocabSize = computeConvergenceOverYearRangeWithBuildModels(modelFolder, vector_size)\n",
    "\n",
    "fname = modelFolder + '/convergenceRange_%d.pkl'%y0\n",
    "pkl.dump((convergence, sentenceYearCounter, vocabSize), open(fname, 'wb'))"
   ]
  },
  {
   "cell_type": "code",
   "execution_count": 8,
   "metadata": {
    "collapsed": true
   },
   "outputs": [],
   "source": [
    "def doPlots(convergence, sentenceYearCounter):\n",
    "    semilogx(convergence.keys(), convergence.values(), 'x-')\n",
    "    xlabel('# Sentences')\n",
    "    ylabel('Convergence')\n",
    "    for year,sentenceCount in sentenceYearCounter.iteritems():\n",
    "        plot([sentenceCount,sentenceCount], [0,1],'--', color='#aaaaaa')\n",
    "        text(sentenceCount, 0.5, str(year), rotation=270)\n",
    "    ax = axis()\n",
    "    # axis([ ax[0], ax[1], 0.0, 1.0 ])\n"
   ]
  },
  {
   "cell_type": "code",
   "execution_count": 9,
   "metadata": {
    "collapsed": false
   },
   "outputs": [
    {
     "data": {
      "image/png": "[encoded data removed]",
      "text/plain": [
       "<matplotlib.figure.Figure at 0x7fb3344b1750>"
      ]
     },
     "metadata": {},
     "output_type": "display_data"
    }
   ],
   "source": [
    "files = [ 'models/convergenceRange_1785.pkl', 'models-b/convergenceRange_1785.pkl' ]\n",
    "\n",
    "for f in files:\n",
    "    convergence, sentenceYearCounter, vocabSize = pkl.load(open(f, 'rb'))\n",
    "    doPlots(convergence, sentenceYearCounter)"
   ]
  }
 ],
 "metadata": {
  "kernelspec": {
   "display_name": "Python 2",
   "language": "python",
   "name": "python2"
  },
  "language_info": {
   "codemirror_mode": {
    "name": "ipython",
    "version": 2
   },
   "file_extension": ".py",
   "mimetype": "text/x-python",
   "name": "python",
   "nbconvert_exporter": "python",
   "pygments_lexer": "ipython2",
   "version": "2.7.13"
  }
 },
 "nbformat": 4,
 "nbformat_minor": 2
}
